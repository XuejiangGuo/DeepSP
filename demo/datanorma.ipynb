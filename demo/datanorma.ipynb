{
 "cells": [
  {
   "cell_type": "code",
   "execution_count": 1,
   "metadata": {},
   "outputs": [
    {
     "name": "stderr",
     "output_type": "stream",
     "text": [
      "D:\\Program\\Anaconda3\\lib\\site-packages\\numpy\\_distributor_init.py:30: UserWarning: loaded more than 1 DLL from .libs:\n",
      "D:\\Program\\Anaconda3\\lib\\site-packages\\numpy\\.libs\\libopenblas.GK7GX5KEQ4F6UYO3P26ULGBQYHGQO7J4.gfortran-win_amd64.dll\n",
      "D:\\Program\\Anaconda3\\lib\\site-packages\\numpy\\.libs\\libopenblas.PYQHXLVVQ7VESDPUVUADXEVJOBGHJPAY.gfortran-win_amd64.dll\n",
      "D:\\Program\\Anaconda3\\lib\\site-packages\\numpy\\.libs\\libopenblas.WCDJNK7YVMPZQ2ME2ZZHJJRJ3JIKNDB7.gfortran-win_amd64.dll\n",
      "D:\\Program\\Anaconda3\\lib\\site-packages\\numpy\\.libs\\libopenblas.XWYDX2IKJW2NMTWSFYNGFUWKQU3LYTCZ.gfortran-win_amd64.dll\n",
      "  warnings.warn(\"loaded more than 1 DLL from .libs:\"\n"
     ]
    }
   ],
   "source": [
    "import pandas as pd\n",
    "import numpy as np\n",
    "import os"
   ]
  },
  {
   "cell_type": "code",
   "execution_count": 22,
   "metadata": {},
   "outputs": [],
   "source": [
    "# names = ['nikolovski2014', 'E14TG2aR', 'itzhak2017', 'hirst2018',\n",
    "#            'LOPITDC2019', 'orre2019', 'mulvey2021']\n",
    "# for name in names:\n",
    "#     if not os.path.exists(f'../data/input_zscore/{name}'):\n",
    "#         os.mkdir(f'../data/input_zscore/{name}')\n",
    "#     data = pd.read_csv(f'../data/input_rawdata/{name}/{name}.csv', index_col=0)\n",
    "#     data.iloc[:, :-1] =data.iloc[:, :-1].apply(lambda x: (x - x.mean())/ x.std(), axis=0)\n",
    "#     data.to_csv(f'../data/input_zscore/{name}/{name}.csv')"
   ]
  },
  {
   "cell_type": "code",
   "execution_count": 29,
   "metadata": {},
   "outputs": [],
   "source": [
    "names = ['nikolovski2014', 'E14TG2aR', 'itzhak2017', 'hirst2018',\n",
    "           'LOPITDC2019', 'orre2019', 'mulvey2021']\n",
    "for name in names:\n",
    "    if not os.path.exists(f'../data/input_columnnorma/{name}'):\n",
    "        os.mkdir(f'../data/input_columnnorma/{name}')\n",
    "    data = pd.read_csv(f'../data/input_rawdata/{name}/{name}.csv', index_col=0)\n",
    "    data.iloc[:, :-1] =data.iloc[:, :-1].apply(lambda x: x/ x.sum(), axis=0)\n",
    "    data.to_csv(f'../data/input_columnnorma/{name}/{name}.csv')"
   ]
  },
  {
   "cell_type": "code",
   "execution_count": 30,
   "metadata": {},
   "outputs": [],
   "source": [
    "from scipy import spatial"
   ]
  },
  {
   "cell_type": "code",
   "execution_count": 11,
   "metadata": {},
   "outputs": [],
   "source": [
    "names = ['nikolovski2014', 'E14TG2aR', 'itzhak2017', 'hirst2018',\n",
    "           'LOPITDC2019', 'orre2019', 'mulvey2021']\n",
    "for name in names:\n",
    "    if not os.path.exists(f'../data/input_columnMaxMin/{name}'):\n",
    "        os.mkdir(f'../data/input_columnMaxMin/{name}')\n",
    "    data = pd.read_csv(f'../data/input_rawdata/{name}/{name}.csv', index_col=0)\n",
    "    data.iloc[:, :-1] =data.iloc[:, :-1].apply(lambda x: (x - x.min())/ (x.max() - x.min()), axis=0)\n",
    "    data.to_csv(f'../data/input_columnMaxMin/{name}/{name}.csv')"
   ]
  },
  {
   "cell_type": "code",
   "execution_count": 12,
   "metadata": {},
   "outputs": [],
   "source": [
    "names = ['nikolovski2014', 'E14TG2aR', 'itzhak2017', 'hirst2018',\n",
    "           'LOPITDC2019', 'orre2019', 'mulvey2021']\n",
    "for name in names:\n",
    "    if not os.path.exists(f'../data/input_rowMaxMin/{name}'):\n",
    "        os.mkdir(f'../data/input_rowMaxMin/{name}')\n",
    "    data = pd.read_csv(f'../data/input_rawdata/{name}/{name}.csv', index_col=0)\n",
    "    data.iloc[:, :-1] =data.iloc[:, :-1].apply(lambda x: (x - x.min())/ (x.max() - x.min()), axis=1)\n",
    "    data.to_csv(f'../data/input_rowMaxMin/{name}/{name}.csv')"
   ]
  },
  {
   "cell_type": "code",
   "execution_count": null,
   "metadata": {},
   "outputs": [],
   "source": []
  }
 ],
 "metadata": {
  "kernelspec": {
   "display_name": "Python 3",
   "language": "python",
   "name": "python3"
  },
  "language_info": {
   "codemirror_mode": {
    "name": "ipython",
    "version": 3
   },
   "file_extension": ".py",
   "mimetype": "text/x-python",
   "name": "python",
   "nbconvert_exporter": "python",
   "pygments_lexer": "ipython3",
   "version": "3.8.8"
  }
 },
 "nbformat": 4,
 "nbformat_minor": 4
}
