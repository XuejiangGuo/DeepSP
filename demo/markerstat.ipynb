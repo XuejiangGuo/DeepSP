{
 "cells": [
  {
   "cell_type": "code",
   "execution_count": 1,
   "id": "80723f70",
   "metadata": {},
   "outputs": [],
   "source": [
    "import pandas as pd\n",
    "import numpy as np"
   ]
  },
  {
   "cell_type": "code",
   "execution_count": 11,
   "id": "7b69b77f",
   "metadata": {},
   "outputs": [],
   "source": [
    "names = ['nikolovski2014', 'E14TG2aR', 'itzhak2017', 'hirst2018',\n",
    "           'LOPITDC2019', 'orre2019', 'mulvey2021']\n",
    "df = pd.DataFrame()\n",
    "for name in names:\n",
    "    data = pd.read_csv(f'../data/input_rawdata/{name}/{name}.csv', index_col=0)\n",
    "    data['Data'] = name\n",
    "    data = data[['Data', 'markers']]\n",
    "    df = pd.concat([df, data], axis=0)"
   ]
  },
  {
   "cell_type": "code",
   "execution_count": 42,
   "id": "0546198e",
   "metadata": {},
   "outputs": [],
   "source": [
    "dk = pd.DataFrame(df.groupby('Data')['markers'].value_counts())\n",
    "dk.columns=['Count']\n",
    "dk = dk.reset_index()"
   ]
  },
  {
   "cell_type": "code",
   "execution_count": 50,
   "id": "a5e575fb",
   "metadata": {},
   "outputs": [],
   "source": [
    "\n",
    "dk['Data'] = pd.Categorical(dk['Data'], categories=names)\n",
    "dk=dk.sort_values(by=['Data', 'markers'], axis=0)"
   ]
  },
  {
   "cell_type": "code",
   "execution_count": 46,
   "id": "03344064",
   "metadata": {},
   "outputs": [
    {
     "data": {
      "text/html": [
       "<div>\n",
       "<style scoped>\n",
       "    .dataframe tbody tr th:only-of-type {\n",
       "        vertical-align: middle;\n",
       "    }\n",
       "\n",
       "    .dataframe tbody tr th {\n",
       "        vertical-align: top;\n",
       "    }\n",
       "\n",
       "    .dataframe thead th {\n",
       "        text-align: right;\n",
       "    }\n",
       "</style>\n",
       "<table border=\"1\" class=\"dataframe\">\n",
       "  <thead>\n",
       "    <tr style=\"text-align: right;\">\n",
       "      <th></th>\n",
       "      <th>Data</th>\n",
       "      <th>markers</th>\n",
       "      <th>Count</th>\n",
       "    </tr>\n",
       "  </thead>\n",
       "  <tbody>\n",
       "    <tr>\n",
       "      <th>67</th>\n",
       "      <td>nikolovski2014</td>\n",
       "      <td>Cytosol</td>\n",
       "      <td>15</td>\n",
       "    </tr>\n",
       "    <tr>\n",
       "      <th>61</th>\n",
       "      <td>nikolovski2014</td>\n",
       "      <td>ER</td>\n",
       "      <td>63</td>\n",
       "    </tr>\n",
       "    <tr>\n",
       "      <th>66</th>\n",
       "      <td>nikolovski2014</td>\n",
       "      <td>Golgi</td>\n",
       "      <td>26</td>\n",
       "    </tr>\n",
       "    <tr>\n",
       "      <th>62</th>\n",
       "      <td>nikolovski2014</td>\n",
       "      <td>Mitochondrion</td>\n",
       "      <td>51</td>\n",
       "    </tr>\n",
       "    <tr>\n",
       "      <th>64</th>\n",
       "      <td>nikolovski2014</td>\n",
       "      <td>PM</td>\n",
       "      <td>27</td>\n",
       "    </tr>\n",
       "    <tr>\n",
       "      <th>...</th>\n",
       "      <td>...</td>\n",
       "      <td>...</td>\n",
       "      <td>...</td>\n",
       "    </tr>\n",
       "    <tr>\n",
       "      <th>58</th>\n",
       "      <td>mulvey2021</td>\n",
       "      <td>Nucleolus</td>\n",
       "      <td>38</td>\n",
       "    </tr>\n",
       "    <tr>\n",
       "      <th>50</th>\n",
       "      <td>mulvey2021</td>\n",
       "      <td>Nucleus</td>\n",
       "      <td>91</td>\n",
       "    </tr>\n",
       "    <tr>\n",
       "      <th>59</th>\n",
       "      <td>mulvey2021</td>\n",
       "      <td>Peroxisome</td>\n",
       "      <td>29</td>\n",
       "    </tr>\n",
       "    <tr>\n",
       "      <th>53</th>\n",
       "      <td>mulvey2021</td>\n",
       "      <td>Plasma Membrane</td>\n",
       "      <td>72</td>\n",
       "    </tr>\n",
       "    <tr>\n",
       "      <th>48</th>\n",
       "      <td>mulvey2021</td>\n",
       "      <td>unknown</td>\n",
       "      <td>3282</td>\n",
       "    </tr>\n",
       "  </tbody>\n",
       "</table>\n",
       "<p>85 rows × 3 columns</p>\n",
       "</div>"
      ],
      "text/plain": [
       "              Data          markers  Count\n",
       "67  nikolovski2014          Cytosol     15\n",
       "61  nikolovski2014               ER     63\n",
       "66  nikolovski2014            Golgi     26\n",
       "62  nikolovski2014    Mitochondrion     51\n",
       "64  nikolovski2014               PM     27\n",
       "..             ...              ...    ...\n",
       "58      mulvey2021        Nucleolus     38\n",
       "50      mulvey2021          Nucleus     91\n",
       "59      mulvey2021       Peroxisome     29\n",
       "53      mulvey2021  Plasma Membrane     72\n",
       "48      mulvey2021          unknown   3282\n",
       "\n",
       "[85 rows x 3 columns]"
      ]
     },
     "execution_count": 46,
     "metadata": {},
     "output_type": "execute_result"
    }
   ],
   "source": [
    "dk.sort_values(by=['Data', 'markers'], axis=0)"
   ]
  },
  {
   "cell_type": "code",
   "execution_count": 52,
   "id": "0ef38156",
   "metadata": {},
   "outputs": [],
   "source": [
    "dk.to_csv('../output/MarkerTable.csv', index=None)"
   ]
  },
  {
   "cell_type": "code",
   "execution_count": null,
   "id": "55bb45b3",
   "metadata": {},
   "outputs": [],
   "source": []
  }
 ],
 "metadata": {
  "kernelspec": {
   "display_name": "Python 3",
   "language": "python",
   "name": "python3"
  },
  "language_info": {
   "codemirror_mode": {
    "name": "ipython",
    "version": 3
   },
   "file_extension": ".py",
   "mimetype": "text/x-python",
   "name": "python",
   "nbconvert_exporter": "python",
   "pygments_lexer": "ipython3",
   "version": "3.8.8"
  }
 },
 "nbformat": 4,
 "nbformat_minor": 5
}
