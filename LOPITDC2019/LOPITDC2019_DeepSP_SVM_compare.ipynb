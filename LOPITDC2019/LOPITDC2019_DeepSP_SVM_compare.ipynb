{
 "cells": [
  {
   "cell_type": "code",
   "execution_count": 121,
   "metadata": {},
   "outputs": [],
   "source": [
    "import pandas as pd\n",
    "import numpy as np\n",
    "import matplotlib.pyplot as plt\n",
    "import scikitplot as skplt\n",
    "from sklearn.metrics import classification_report\n",
    "%matplotlib inline\n",
    "plt.rcParams['font.sans-serif'] = 'Arial'"
   ]
  },
  {
   "cell_type": "code",
   "execution_count": 122,
   "metadata": {},
   "outputs": [
    {
     "data": {
      "text/plain": [
       "(579, 16)"
      ]
     },
     "execution_count": 122,
     "metadata": {},
     "output_type": "execute_result"
    }
   ],
   "source": [
    "trainresult = pd.read_csv('./DeepSP/trainresult.csv')\n",
    "trainresult.shape"
   ]
  },
  {
   "cell_type": "code",
   "execution_count": 123,
   "metadata": {},
   "outputs": [
    {
     "name": "stdout",
     "output_type": "stream",
     "text": [
      "                   precision    recall  f1-score   support\n",
      "\n",
      "          CYTOSOL      1.000     1.000     1.000        49\n",
      "               ER      1.000     1.000     1.000        82\n",
      "               GA      1.000     1.000     1.000        34\n",
      "         LYSOSOME      1.000     1.000     1.000        35\n",
      "    MITOCHONDRION      1.000     1.000     1.000       122\n",
      "NUCLEUS/CHROMATIN      1.000     0.989     0.995        94\n",
      "       PEROXISOME      1.000     1.000     1.000        14\n",
      "               PM      1.000     1.000     1.000        56\n",
      "       PROTEASOME      1.000     1.000     1.000        26\n",
      "         RIBOSOME      0.985     1.000     0.993        67\n",
      "\n",
      "         accuracy                          0.998       579\n",
      "        macro avg      0.999     0.999     0.999       579\n",
      "     weighted avg      0.998     0.998     0.998       579\n",
      "\n"
     ]
    }
   ],
   "source": [
    "print(classification_report(trainresult.markers, trainresult.pred, digits=3))"
   ]
  },
  {
   "cell_type": "code",
   "execution_count": 124,
   "metadata": {},
   "outputs": [
    {
     "data": {
      "text/plain": [
       "(6258, 2)"
      ]
     },
     "execution_count": 124,
     "metadata": {},
     "output_type": "execute_result"
    }
   ],
   "source": [
    "DeepSPtest = pd.read_csv('./DeepSP/testresult.csv', index_col=0)[['pred','score',]]\n",
    "DeepSPtest.columns = ['DeepSPClassification','DeepSPScore']\n",
    "DeepSPtest.shape"
   ]
  },
  {
   "cell_type": "code",
   "execution_count": 125,
   "metadata": {},
   "outputs": [
    {
     "data": {
      "text/html": [
       "<div>\n",
       "<style scoped>\n",
       "    .dataframe tbody tr th:only-of-type {\n",
       "        vertical-align: middle;\n",
       "    }\n",
       "\n",
       "    .dataframe tbody tr th {\n",
       "        vertical-align: top;\n",
       "    }\n",
       "\n",
       "    .dataframe thead th {\n",
       "        text-align: right;\n",
       "    }\n",
       "</style>\n",
       "<table border=\"1\" class=\"dataframe\">\n",
       "  <thead>\n",
       "    <tr style=\"text-align: right;\">\n",
       "      <th></th>\n",
       "      <th>P1rep1</th>\n",
       "      <th>P2rep1</th>\n",
       "      <th>P3rep1</th>\n",
       "      <th>P4rep1</th>\n",
       "      <th>P5rep1</th>\n",
       "      <th>P6rep1</th>\n",
       "      <th>P7rep1</th>\n",
       "      <th>P8rep1</th>\n",
       "      <th>P9rep1</th>\n",
       "      <th>SNrep1</th>\n",
       "      <th>...</th>\n",
       "      <th>P4rep3</th>\n",
       "      <th>P5rep3</th>\n",
       "      <th>P6rep3</th>\n",
       "      <th>P7rep3</th>\n",
       "      <th>P8rep3</th>\n",
       "      <th>P9rep3</th>\n",
       "      <th>SNrep3</th>\n",
       "      <th>markers</th>\n",
       "      <th>SVMClassification</th>\n",
       "      <th>SVMScore</th>\n",
       "    </tr>\n",
       "  </thead>\n",
       "  <tbody>\n",
       "    <tr>\n",
       "      <th>P09382</th>\n",
       "      <td>0.084</td>\n",
       "      <td>0.116</td>\n",
       "      <td>0.099</td>\n",
       "      <td>0.09</td>\n",
       "      <td>0.089</td>\n",
       "      <td>0.072</td>\n",
       "      <td>0.057</td>\n",
       "      <td>0.051</td>\n",
       "      <td>0.066</td>\n",
       "      <td>0.252</td>\n",
       "      <td>...</td>\n",
       "      <td>0.103</td>\n",
       "      <td>0.076</td>\n",
       "      <td>0.08</td>\n",
       "      <td>0.061</td>\n",
       "      <td>0.058</td>\n",
       "      <td>0.054</td>\n",
       "      <td>0.228</td>\n",
       "      <td>unknown</td>\n",
       "      <td>CYTOSOL</td>\n",
       "      <td>0.587467</td>\n",
       "    </tr>\n",
       "  </tbody>\n",
       "</table>\n",
       "<p>1 rows × 33 columns</p>\n",
       "</div>"
      ],
      "text/plain": [
       "        P1rep1  P2rep1  P3rep1  P4rep1  P5rep1  P6rep1  P7rep1  P8rep1  \\\n",
       "P09382   0.084   0.116   0.099    0.09   0.089   0.072   0.057   0.051   \n",
       "\n",
       "        P9rep1  SNrep1  ...  P4rep3  P5rep3  P6rep3  P7rep3  P8rep3  P9rep3  \\\n",
       "P09382   0.066   0.252  ...   0.103   0.076    0.08   0.061   0.058   0.054   \n",
       "\n",
       "        SNrep3  markers  SVMClassification  SVMScore  \n",
       "P09382   0.228  unknown            CYTOSOL  0.587467  \n",
       "\n",
       "[1 rows x 33 columns]"
      ]
     },
     "execution_count": 125,
     "metadata": {},
     "output_type": "execute_result"
    }
   ],
   "source": [
    "dfsvm = pd.read_csv('./LOPITDC2019SVMClassification.csv', index_col=0)\n",
    "dfsvm.head(1)"
   ]
  },
  {
   "cell_type": "code",
   "execution_count": 126,
   "metadata": {},
   "outputs": [],
   "source": [
    "# dfnnet = pd.read_csv('./LOPITDC2019NNETClassification.csv', index_col=0)[['NNETClassification', 'NNETScore']]\n",
    "# dfnnet.head(1)"
   ]
  },
  {
   "cell_type": "code",
   "execution_count": 135,
   "metadata": {},
   "outputs": [],
   "source": [
    "df = pd.concat([dfsvm, dfnnet, DeepSPtest], axis=1)\n",
    "df.index.name = 'ProteinID'\n",
    "df.loc[df['DeepSPClassification'].isna(), 'DeepSPClassification'] = df.loc[df['DeepSPClassification'].isna(), 'markers']\n",
    "df.loc[df['DeepSPScore'].isna(), 'DeepSPScore'] = 1.0\n",
    "df = df.rename(index={'Q7Z412-2': 'Q7Z412'})"
   ]
  },
  {
   "cell_type": "code",
   "execution_count": 136,
   "metadata": {},
   "outputs": [],
   "source": [
    "df.to_csv('../LOPITDC2019/LOPITDC2019SVM_DeepSP.csv')"
   ]
  },
  {
   "cell_type": "code",
   "execution_count": 137,
   "metadata": {},
   "outputs": [
    {
     "data": {
      "text/html": [
       "<div>\n",
       "<style scoped>\n",
       "    .dataframe tbody tr th:only-of-type {\n",
       "        vertical-align: middle;\n",
       "    }\n",
       "\n",
       "    .dataframe tbody tr th {\n",
       "        vertical-align: top;\n",
       "    }\n",
       "\n",
       "    .dataframe thead th {\n",
       "        text-align: right;\n",
       "    }\n",
       "</style>\n",
       "<table border=\"1\" class=\"dataframe\">\n",
       "  <thead>\n",
       "    <tr style=\"text-align: right;\">\n",
       "      <th></th>\n",
       "      <th>P1rep1</th>\n",
       "      <th>P2rep1</th>\n",
       "      <th>P3rep1</th>\n",
       "      <th>P4rep1</th>\n",
       "      <th>P5rep1</th>\n",
       "      <th>P6rep1</th>\n",
       "      <th>P7rep1</th>\n",
       "      <th>P8rep1</th>\n",
       "      <th>P9rep1</th>\n",
       "      <th>SNrep1</th>\n",
       "      <th>...</th>\n",
       "      <th>P8rep3</th>\n",
       "      <th>P9rep3</th>\n",
       "      <th>SNrep3</th>\n",
       "      <th>markers</th>\n",
       "      <th>SVMClassification</th>\n",
       "      <th>SVMScore</th>\n",
       "      <th>NNETClassification</th>\n",
       "      <th>NNETScore</th>\n",
       "      <th>DeepSPClassification</th>\n",
       "      <th>DeepSPScore</th>\n",
       "    </tr>\n",
       "    <tr>\n",
       "      <th>ProteinID</th>\n",
       "      <th></th>\n",
       "      <th></th>\n",
       "      <th></th>\n",
       "      <th></th>\n",
       "      <th></th>\n",
       "      <th></th>\n",
       "      <th></th>\n",
       "      <th></th>\n",
       "      <th></th>\n",
       "      <th></th>\n",
       "      <th></th>\n",
       "      <th></th>\n",
       "      <th></th>\n",
       "      <th></th>\n",
       "      <th></th>\n",
       "      <th></th>\n",
       "      <th></th>\n",
       "      <th></th>\n",
       "      <th></th>\n",
       "      <th></th>\n",
       "      <th></th>\n",
       "    </tr>\n",
       "  </thead>\n",
       "  <tbody>\n",
       "    <tr>\n",
       "      <th>P09382</th>\n",
       "      <td>0.084</td>\n",
       "      <td>0.116</td>\n",
       "      <td>0.099</td>\n",
       "      <td>0.09</td>\n",
       "      <td>0.089</td>\n",
       "      <td>0.072</td>\n",
       "      <td>0.057</td>\n",
       "      <td>0.051</td>\n",
       "      <td>0.066</td>\n",
       "      <td>0.252</td>\n",
       "      <td>...</td>\n",
       "      <td>0.058</td>\n",
       "      <td>0.054</td>\n",
       "      <td>0.228</td>\n",
       "      <td>unknown</td>\n",
       "      <td>CYTOSOL</td>\n",
       "      <td>0.587467</td>\n",
       "      <td>CYTOSOL</td>\n",
       "      <td>0.988495</td>\n",
       "      <td>CYTOSOL</td>\n",
       "      <td>0.467315</td>\n",
       "    </tr>\n",
       "  </tbody>\n",
       "</table>\n",
       "<p>1 rows × 37 columns</p>\n",
       "</div>"
      ],
      "text/plain": [
       "           P1rep1  P2rep1  P3rep1  P4rep1  P5rep1  P6rep1  P7rep1  P8rep1  \\\n",
       "ProteinID                                                                   \n",
       "P09382      0.084   0.116   0.099    0.09   0.089   0.072   0.057   0.051   \n",
       "\n",
       "           P9rep1  SNrep1  ...  P8rep3  P9rep3  SNrep3  markers  \\\n",
       "ProteinID                  ...                                    \n",
       "P09382      0.066   0.252  ...   0.058   0.054   0.228  unknown   \n",
       "\n",
       "           SVMClassification  SVMScore  NNETClassification  NNETScore  \\\n",
       "ProteinID                                                               \n",
       "P09382               CYTOSOL  0.587467             CYTOSOL   0.988495   \n",
       "\n",
       "           DeepSPClassification  DeepSPScore  \n",
       "ProteinID                                     \n",
       "P09382                  CYTOSOL     0.467315  \n",
       "\n",
       "[1 rows x 37 columns]"
      ]
     },
     "execution_count": 137,
     "metadata": {},
     "output_type": "execute_result"
    }
   ],
   "source": [
    "df.head(1)"
   ]
  },
  {
   "cell_type": "code",
   "execution_count": 138,
   "metadata": {},
   "outputs": [
    {
     "data": {
      "text/plain": [
       "(6258, 37)"
      ]
     },
     "execution_count": 138,
     "metadata": {},
     "output_type": "execute_result"
    }
   ],
   "source": [
    "result = df[df['markers'] == 'unknown']\n",
    "result.shape"
   ]
  },
  {
   "cell_type": "code",
   "execution_count": 139,
   "metadata": {},
   "outputs": [
    {
     "data": {
      "image/png": "[encoded data removed]",
      "text/plain": [
       "<Figure size 518.4x432 with 2 Axes>"
      ]
     },
     "metadata": {
      "needs_background": "light"
     },
     "output_type": "display_data"
    }
   ],
   "source": [
    "skplt.metrics.plot_confusion_matrix(result['SVMClassification'],\n",
    "                                    result['DeepSPClassification'],\n",
    "                                    normalize=True,\n",
    "                                   figsize=(6*1.2, 5*1.2),\n",
    "                                   cmap='OrRd')\n",
    "plt.xticks(rotation=60)\n",
    "\n",
    "plt.xlabel('DeepSP', fontsize=15)\n",
    "plt.ylabel('SVM', fontsize=15)\n",
    "plt.title(None)\n",
    "plt.tight_layout()\n",
    "plt.savefig('../figure/LOPITDC2019_SVMvsDeepSP.pdf')"
   ]
  },
  {
   "cell_type": "code",
   "execution_count": 132,
   "metadata": {},
   "outputs": [],
   "source": [
    "# skplt.metrics.plot_confusion_matrix(result['NNETClassification'],\n",
    "#                                     result['DeepSPClassification'],\n",
    "#                                     normalize=True,\n",
    "#                                    figsize=(6*1.2, 5*1.2),\n",
    "#                                    cmap='OrRd')\n",
    "# plt.xticks(rotation=60)\n",
    "\n",
    "# plt.xlabel('DeepSP', fontsize=15)\n",
    "# plt.ylabel('NNET', fontsize=15)\n",
    "# plt.title(None)\n",
    "# plt.tight_layout()\n",
    "# plt.savefig('../figure/LOPITDC2019_NNETvsDeepSP.pdf')"
   ]
  },
  {
   "cell_type": "code",
   "execution_count": 111,
   "metadata": {},
   "outputs": [],
   "source": [
    "# result[result['NNETClassification'] != result['DeepSPClassification']][[\n",
    "#     'NNETClassification', 'NNETScore', 'DeepSPClassification', 'DeepSPScore' \n",
    "# ]].to_csv('../LOPITDC2019/LOPITDC2019Diff_NNET-DeepSP.csv')"
   ]
  },
  {
   "cell_type": "code",
   "execution_count": 140,
   "metadata": {},
   "outputs": [],
   "source": [
    "result[result['SVMClassification'] != result['DeepSPClassification']][[\n",
    "    'SVMClassification', 'SVMScore', 'DeepSPClassification', 'DeepSPScore' \n",
    "]].to_csv(\n",
    "    '../LOPITDC2019/LOPITDC2019Diff_SVM-DeepSP.csv')"
   ]
  },
  {
   "cell_type": "code",
   "execution_count": null,
   "metadata": {},
   "outputs": [],
   "source": []
  }
 ],
 "metadata": {
  "kernelspec": {
   "display_name": "Python 3",
   "language": "python",
   "name": "python3"
  },
  "language_info": {
   "codemirror_mode": {
    "name": "ipython",
    "version": 3
   },
   "file_extension": ".py",
   "mimetype": "text/x-python",
   "name": "python",
   "nbconvert_exporter": "python",
   "pygments_lexer": "ipython3",
   "version": "3.8.5"
  }
 },
 "nbformat": 4,
 "nbformat_minor": 4
}
